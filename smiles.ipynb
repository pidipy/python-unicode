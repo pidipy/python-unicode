{
 "cells": [
  {
   "cell_type": "markdown",
   "metadata": {},
   "source": [
    "Find Unicodes here: [Click](https://unicode-table.com/en/)\n",
    "\n",
    "### Syntax\n",
    "\n",
    "Most unicodes will work with `\\U0001` + `Unicode Number` but you can have trouble or errors for example with ₿ `print(\"\\U000120BF\")` then use `print(u'\\u20BF')` instead.\n",
    "\n",
    "\n"
   ]
  },
  {
   "cell_type": "code",
   "execution_count": 11,
   "metadata": {},
   "outputs": [
    {
     "name": "stdout",
     "output_type": "stream",
     "text": [
      "😂\n",
      "🤪\n",
      "🤫\n",
      "😅\n",
      "😍\n",
      "👍\n",
      "₿\n"
     ]
    }
   ],
   "source": [
    "print(\"\\U0001F602\")\n",
    "#😂\n",
    "print(\"\\U0001F92A\")\n",
    "#🤪\n",
    "print(\"\\U0001F92B\")\n",
    "#🤫\n",
    "print(\"\\U0001F605\")\n",
    "#😅\n",
    "print(\"\\U0001F60D\")\n",
    "#😍\n",
    "print(\"\\U0001F44D\")\n",
    "#👍\n",
    "print(u'\\u20BF')\n",
    "#₿\n",
    "\n"
   ]
  }
 ],
 "metadata": {
  "kernelspec": {
   "display_name": "Python 3",
   "language": "python",
   "name": "python3"
  },
  "language_info": {
   "codemirror_mode": {
    "name": "ipython",
    "version": 3
   },
   "file_extension": ".py",
   "mimetype": "text/x-python",
   "name": "python",
   "nbconvert_exporter": "python",
   "pygments_lexer": "ipython3",
   "version": "3.8.5"
  }
 },
 "nbformat": 4,
 "nbformat_minor": 4
}
