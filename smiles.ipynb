{
 "cells": [
  {
   "cell_type": "code",
   "execution_count": 4,
   "metadata": {},
   "outputs": [
    {
     "name": "stdout",
     "output_type": "stream",
     "text": [
      "😂\n",
      "🤪\n",
      "🤫\n",
      "😅\n",
      "😍\n",
      "👍\n"
     ]
    }
   ],
   "source": [
    "#More: https://unicode-table.com/en/\n",
    "#Syntax: \\U0001 + Unicode Number\n",
    "\n",
    "print(\"\\U0001F602\")\n",
    "#😂\n",
    "print(\"\\U0001F92A\")\n",
    "#🤪\n",
    "print(\"\\U0001F92B\")\n",
    "#🤫\n",
    "print(\"\\U0001F605\")\n",
    "#😅\n",
    "print(\"\\U0001F60D\")\n",
    "#😍\n",
    "print(\"\\U0001F44D\")\n",
    "#👍\n"
   ]
  },
  {
   "cell_type": "code",
   "execution_count": null,
   "metadata": {},
   "outputs": [],
   "source": []
  }
 ],
 "metadata": {
  "kernelspec": {
   "display_name": "Python 3",
   "language": "python",
   "name": "python3"
  },
  "language_info": {
   "codemirror_mode": {
    "name": "ipython",
    "version": 3
   },
   "file_extension": ".py",
   "mimetype": "text/x-python",
   "name": "python",
   "nbconvert_exporter": "python",
   "pygments_lexer": "ipython3",
   "version": "3.8.5"
  }
 },
 "nbformat": 4,
 "nbformat_minor": 4
}
